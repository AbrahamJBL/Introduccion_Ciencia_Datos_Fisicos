{
  "nbformat": 4,
  "nbformat_minor": 0,
  "metadata": {
    "colab": {
      "provenance": [],
      "authorship_tag": "ABX9TyPcp0mhgp+CQvvypeHlXA8/",
      "include_colab_link": true
    },
    "kernelspec": {
      "name": "python3",
      "display_name": "Python 3"
    },
    "language_info": {
      "name": "python"
    }
  },
  "cells": [
    {
      "cell_type": "markdown",
      "metadata": {
        "id": "view-in-github",
        "colab_type": "text"
      },
      "source": [
        "<a href=\"https://colab.research.google.com/github/AbrahamJBL/Tareas_Ciencia_Datos/blob/main/T1.ipynb\" target=\"_parent\"><img src=\"https://colab.research.google.com/assets/colab-badge.svg\" alt=\"Open In Colab\"/></a>"
      ]
    },
    {
      "cell_type": "code",
      "execution_count": null,
      "metadata": {
        "id": "JIARQq9eRyMU"
      },
      "outputs": [],
      "source": []
    },
    {
      "cell_type": "markdown",
      "source": [
        "Ejercicio 1 (1 punto):\n",
        "En una celda Markdown contesta:\n",
        "\n",
        "* ¿Qué es una palabra reservada en python? Enlista 5 ejemplos de nombres reservados en python y describe su función.\n",
        "* Coloca tres ejemplos de nombres de variables que no son válidos en python. Explica por qué no son válidos."
      ],
      "metadata": {
        "id": "5HnPPsETR2Mk"
      }
    },
    {
      "cell_type": "markdown",
      "source": [
        "Una palabra reservada son aquellas palabras que como su nombre indica ya estan \n",
        "reservadas en el lenguaje de programación, en este caso Python, para hacer tareas especificas.\n",
        "\n",
        " Como ejemplos podemos tener:\n",
        "* lambda: que es una variable matematica \n",
        "* True: que es un valor booleano, y es el resultado de una operacion de comparación, True = 1 en booleano.\n",
        "* False: el mismo caso que en la lina anterior, False equivale a 0 en booleano.\n",
        "* class: es una abstraccion de un objeto en el mundo real, proveen una fora de empaquetar datos.\n",
        "* while: que es una forma de ejecutar la misma tarea varias veces dependiendo de como definamos una condición.\n",
        "\n",
        "Variables no válidas en python: \n",
        " \n",
        " * \"5perro = 10\" (NO es valida ya que inicia con un número).\n",
        " * \"nu mero = 99\" (NO es válida ya que tiene un espacio).\n",
        " * \"mi-edad = 10.3\" (NO es válida por que tiene un guion, solo son válidos los guiones bajos)."
      ],
      "metadata": {
        "id": "n3MlpTvoSFBQ"
      }
    },
    {
      "cell_type": "code",
      "source": [
        "mi-edad = 10.3"
      ],
      "metadata": {
        "colab": {
          "base_uri": "https://localhost:8080/",
          "height": 130
        },
        "id": "AN84jIm9VgDM",
        "outputId": "03904687-9175-4549-c5e3-ff237c4ffb30"
      },
      "execution_count": 17,
      "outputs": [
        {
          "output_type": "error",
          "ename": "SyntaxError",
          "evalue": "ignored",
          "traceback": [
            "\u001b[0;36m  File \u001b[0;32m\"<ipython-input-17-d0493f680686>\"\u001b[0;36m, line \u001b[0;32m1\u001b[0m\n\u001b[0;31m    mi-edad = 10.3\u001b[0m\n\u001b[0m    ^\u001b[0m\n\u001b[0;31mSyntaxError\u001b[0m\u001b[0;31m:\u001b[0m cannot assign to operator\n"
          ]
        }
      ]
    },
    {
      "cell_type": "code",
      "source": [
        "mi-edad + 99"
      ],
      "metadata": {
        "colab": {
          "base_uri": "https://localhost:8080/",
          "height": 165
        },
        "id": "di4Sc4J9Wr5A",
        "outputId": "b5e552de-1d65-402a-d27c-b5f47daf6e8f"
      },
      "execution_count": 18,
      "outputs": [
        {
          "output_type": "error",
          "ename": "NameError",
          "evalue": "ignored",
          "traceback": [
            "\u001b[0;31m---------------------------------------------------------------------------\u001b[0m",
            "\u001b[0;31mNameError\u001b[0m                                 Traceback (most recent call last)",
            "\u001b[0;32m<ipython-input-18-b79029c235c1>\u001b[0m in \u001b[0;36m<module>\u001b[0;34m\u001b[0m\n\u001b[0;32m----> 1\u001b[0;31m \u001b[0mmi\u001b[0m\u001b[0;34m-\u001b[0m\u001b[0medad\u001b[0m \u001b[0;34m+\u001b[0m \u001b[0;36m99\u001b[0m\u001b[0;34m\u001b[0m\u001b[0;34m\u001b[0m\u001b[0m\n\u001b[0m",
            "\u001b[0;31mNameError\u001b[0m: name 'mi' is not defined"
          ]
        }
      ]
    }
  ]
}