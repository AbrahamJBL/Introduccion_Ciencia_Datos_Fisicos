{
  "nbformat": 4,
  "nbformat_minor": 0,
  "metadata": {
    "colab": {
      "provenance": []
    },
    "kernelspec": {
      "name": "python3",
      "display_name": "Python 3"
    },
    "language_info": {
      "name": "python"
    }
  },
  "cells": [
    {
      "cell_type": "markdown",
      "source": [
        "#**Tarea 1: Repaso de los conceptos básicos de Python**\n",
        "## ***Ciencia de datos para físicos: Facultad de ciencias, UNAM***\n",
        "###*Alumno: Jesús Abraham Bautista López*"
      ],
      "metadata": {
        "id": "PNQMv9ZWPJPU"
      }
    },
    {
      "cell_type": "markdown",
      "source": [
        "**Ejercicio 1 (1 punto):**\n",
        "\n",
        " * ¿Qué es una palabra reservada en python? Enlista 5 ejemplos de nombres reservados en python y describe su función.\n",
        "\n",
        "* Coloca tres ejemplos de nombres de variables que no son válidos en python. Explica por qué no son válidos."
      ],
      "metadata": {
        "id": "5HnPPsETR2Mk"
      }
    },
    {
      "cell_type": "markdown",
      "source": [
        "Una palabra reservada son aquellas palabras que como su nombre indica ya estan \n",
        "reservadas en el lenguaje de programación, en este caso Python, para hacer tareas especificas.\n",
        "\n",
        " Como ejemplos podemos tener:\n",
        "* **lambda**: que es una variable matematica \n",
        "* **True**: que es un valor booleano, y es el resultado de una operacion de comparación, True = 1 en booleano.\n",
        "* **False**: el mismo caso que en la lina anterior, False equivale a 0 en booleano.\n",
        "* **class**: es una abstraccion de un objeto en el mundo real, proveen una fora de empaquetar datos.\n",
        "* **while**: que es una forma de ejecutar la misma tarea varias veces dependiendo de como definamos una condición.\n",
        "\n",
        "Variables no válidas en python: \n",
        " \n",
        " * **\"5perro = 10\"** (NO es valida ya que inicia con un número).\n",
        " * **\"nu mero = 99\"** (NO es válida ya que tiene un espacio).\n",
        " * **\"mi-edad = 10.3\"** (NO es válida por que tiene un guion, solo son válidos los guiones bajos)."
      ],
      "metadata": {
        "id": "n3MlpTvoSFBQ"
      }
    },
    {
      "cell_type": "markdown",
      "source": [],
      "metadata": {
        "id": "1IAfeHjKJdyV"
      }
    },
    {
      "cell_type": "markdown",
      "source": [
        "**Ejercicio 2 (1 punto):**\n",
        "\n",
        "**En una celda de código, escribe una función que encuentre las raíces de cualquier polinomio de segundo grado (implementar la chicharronera). En una celda markdown detalla posibles casos en la cual la función podría fallar. Usa dicha función para encontrar las raíces del polinomio $f(x) = 10x^2 - 2x$\n",
        " e imprimelas en pantalla.**"
      ],
      "metadata": {
        "id": "GPnLC9q4ZSyl"
      }
    },
    {
      "cell_type": "code",
      "source": [
        "#Recordamos que para calcular la \"chicharronera\" nececitamos los valores de 3 variables, \"a\" para el coeficiente cuadrado,\n",
        "#\"b\" para el coenficiente lineal y \"c\" término independiente.\n",
        "a= float(input('Introduzca el valor de a: '))\n",
        "b= float(input('Introduzca el valor de b: '))\n",
        "c= float(input('Introduzca el valor de c: '))\n",
        "\n",
        "#Ahora se va a programar la formula, recordando que tendremos dos valores (x1 y x2) diferentes debido al termino +/-\n",
        "x1=(-b+(((b**2)-(4*a*c))**0.5))/(2*a)\n",
        "x2=(-b-(((b**2)-(4*a*c))**0.5))/(2*a)\n",
        "\n",
        "#Una vez calculados ambos valores, procedemos a imprimirlos en la pantalla\n",
        "print('El valor de x1 es: ')\n",
        "print(x1)\n",
        "\n",
        "print('El valor de x2 es: ')\n",
        "print(x2)"
      ],
      "metadata": {
        "id": "1K04fNx3ZwUc",
        "colab": {
          "base_uri": "https://localhost:8080/"
        },
        "outputId": "3168e664-bfbe-4372-85bf-45a5c239d91e"
      },
      "execution_count": null,
      "outputs": [
        {
          "output_type": "stream",
          "name": "stdout",
          "text": [
            "Introduzca el valor de a: 10\n",
            "Introduzca el valor de b: -2\n",
            "Introduzca el valor de c: 0\n",
            "El valor de x1 es: \n",
            "0.2\n",
            "El valor de x2 es: \n",
            "0.0\n"
          ]
        }
      ]
    },
    {
      "cell_type": "markdown",
      "source": [],
      "metadata": {
        "id": "IycB10XuJf4O"
      }
    },
    {
      "cell_type": "markdown",
      "source": [
        "La funcion podría fallar si introducimos una letra en alguno de los  valores a,b o c. Pues antes declaramos que estas serían flotantes, numeros decimales o enteros. También si introducimos fraciones $(2/2)$, de la misma manera si a la variable \"a\" le asignamos un *cero*."
      ],
      "metadata": {
        "id": "5qiS0K-duwoH"
      }
    },
    {
      "cell_type": "markdown",
      "source": [
        "**Ejercicio 3 (1 punto):**\n",
        "\n",
        "*Caida libre*: **El gran Galileo Galilei subió la torre de Pisa para determinar el tiempo que tarda un objeto en caer desde una altura $H$ al suelo. Para ello, colocó un objeto de masa $m=100$ kg en la torre y lo dejó caer. El tiempo que tardó en caer fue $t=0.05616667$ minutos.\n",
        "Considerando que la aceleración de la gravedad es $g=9.8$ $\\frac{m}{s^2}$, escribe un programa que determine la altura de la torre de Pisa. El programa debe imprimir la altura en la pantalla.\n",
        "Recuerda que el movimiento de caída libre simplificado cumple la ecuación: \n",
        "$y(t) = H + vt - \\frac{1}{2}gt^2$.**"
      ],
      "metadata": {
        "id": "gLs3ZflKwcnX"
      }
    },
    {
      "cell_type": "code",
      "source": [
        "#Para este programa tendremos presente la ecuación y(t), donde vemos que \"v\" es la velocidad inicial del objeto, para nuestro caso este valor es cero\n",
        "#pues al ser caida libre, cae desde el reposo  (se deja caer), entonces el valor \"vt\"=0. También debemos tomar en cuenta qué\n",
        "#cuando el objeto llegue al suelo y = 0 m. Ahora con esas consideraciones, procedemos a pedir el tiempo en el cae el objeto \"tm\":\n",
        "\n",
        "tm = float(input('Introduzca el tiempo que tardó en caer el objeto (en minutos): '))\n",
        "#Una vez tenemos el valor en minutos \"tm\", se convierte a  segundos \"ts\":\n",
        "g= 9.8\n",
        "y= 0\n",
        "ts= (tm*60)/(1)\n",
        "#Por último evaluamos H con los valores conocidos e imprimimos el valor de la altura de la torre de ´Pisa\n",
        "H= y + ((g)*(ts**2))/(2)\n",
        "print('El valor de la altura (H) de la que cayó el objeto es: ')\n",
        "print(H)"
      ],
      "metadata": {
        "colab": {
          "base_uri": "https://localhost:8080/"
        },
        "id": "hAtUrE27Bgq0",
        "outputId": "8fbcaea1-4479-4884-b5ad-6f91c2b1e3b4"
      },
      "execution_count": null,
      "outputs": [
        {
          "output_type": "stream",
          "name": "stdout",
          "text": [
            "Introduzca el tiempo que tardó en caer el objeto (en minutos): 0.05616667\n",
            "El valor de la altura (H) de la que cayó el objeto es: \n",
            "55.64881660520021\n"
          ]
        }
      ]
    },
    {
      "cell_type": "markdown",
      "source": [],
      "metadata": {
        "id": "lUdQXqF5JiLL"
      }
    },
    {
      "cell_type": "markdown",
      "source": [
        "**Ejercicio 4 (1 punto):**\n",
        "\n",
        "Crea una lista de números enteros del 0 al 99 : \n",
        "`lista = [0,1, 2, 3, 4, ... , 95, 96, 97, 98, 99]` (6 puntos menos si creas la lista manualmente).\n",
        "\n",
        "Escribe un programa que imprima en la pantalla una la lista que cumpla con las siguientes condiciones:\n",
        "* Los ultimos 10 elementos: debe imprimir lo siguiente `[90, 91, 92, 93, 94, 95, 96, 97, 98, 99]`.\n",
        "* Los primeros 11 elementos: debe imprimir lo siguiente `[0, 1, 2, 3, 4, 5, 6, 7, 8, 9, 10]`.\n",
        "* La serie de elementos de la lista que están entre 60 y 75: debe imprimir lo siguiente `[60, 61, 62, 63, 64, 65, 66, 67, 68, 69, 70, 71, 72, 73, 74, 75]`.\n",
        "* El número 50: debe imprimir lo siguiente `50`.\n",
        "\"Debes aplicar el concepto de *slicing* para resolver este ejercicio (notación de puntos `[:]`).\n",
        "\"Puntos menos si se crean listas nuevas para cada caso y/o se seleccionan manualmente los valores."
      ],
      "metadata": {
        "id": "fI7k4fpNI7_Q"
      }
    },
    {
      "cell_type": "code",
      "source": [
        "lista = list(range(0,100)) #con esta línea creamos una lista que va del 0 al 99 (un total de 100 valores)\n",
        "\n",
        "print(lista[90:]) #esta línea imprimirá los valores a partir del 90 de nuestra anterior lista\n",
        "\n",
        "print(lista[:11]) #esta línea imprimirá los valores a partir del 0 al 10 de nuestra lista\n",
        "\n",
        "print(lista[60:76]) #esta línea imprimirá los valores del 60 al 75 de nuestra lista\n",
        "\n",
        "lista[50] #esta línea imprimirá el valor \"50\" que se encuentra en nuestra lista"
      ],
      "metadata": {
        "colab": {
          "base_uri": "https://localhost:8080/"
        },
        "id": "lkgAUZvBjL9h",
        "outputId": "1f84fbfb-36db-461b-8996-27483e66e978"
      },
      "execution_count": null,
      "outputs": [
        {
          "output_type": "stream",
          "name": "stdout",
          "text": [
            "[90, 91, 92, 93, 94, 95, 96, 97, 98, 99]\n",
            "[0, 1, 2, 3, 4, 5, 6, 7, 8, 9, 10]\n",
            "[60, 61, 62, 63, 64, 65, 66, 67, 68, 69, 70, 71, 72, 73, 74, 75]\n"
          ]
        },
        {
          "output_type": "execute_result",
          "data": {
            "text/plain": [
              "50"
            ]
          },
          "metadata": {},
          "execution_count": 51
        }
      ]
    },
    {
      "cell_type": "markdown",
      "source": [
        "**Ejercicio 5 (1 punto):**\n",
        "\n",
        "Crea una lista de números enteros del 0 al 1000. A partir de dicha lista:\n",
        "\n",
        "* Guarda en una variable una lista con los números pares usando ciclos y condicionales. Imprime los últimos 10 elementos de la lista final.\n",
        "\n",
        "* Guarda en una variable una lista con los números impares usando listas comprensivas (comprehension list). Imprime los primeros 10 elementos de la lista final."
      ],
      "metadata": {
        "id": "URsm5GjAs--g"
      }
    },
    {
      "cell_type": "code",
      "source": [
        "#Primera parte: ciclos y condicionales\n",
        "lista_del_0_al_1000 = list(range(0,1001)) #con esta línea creamos una lista que va del 0 al 1000 (un total de 100 valores)\n",
        "\n",
        "print('Lista del 0 al 1000', lista)\n",
        "def extraer_pares(lista): #definimos esta funcion que nos servirá para tomar los número pares de una lista\n",
        "  pares = [] #creamos la variable vacia donde se guardaran los números pares de nuestra primer lista\n",
        "  for n in lista: #lo siguiente es establecer un ciclo para obtener los numero pares de nuestra lista (iteramos)\n",
        "    if n %2==0:    #calculamos el módulo de nuestra n, tal que nos brinde solo los valores pares\n",
        "      pares.append(n) #si se cumple lo anterior, a nuestra variable \"pares\" le agregamos el n actual\n",
        "  return pares  #regreamos a nuestra variable ya ocupada por las n\n",
        "\n",
        "resultado = extraer_pares(lista_del_0_al_1000[982:]) #aqui invocamos la funcion declarada anteriormente, donde el argumento es nuestra primer lista\n",
        "#no olvidando que como solo queremos los últimos 10 elementos, tomaremos los valores a partir del 982 en adelante\n",
        "print('Lista de los últimos 10 número pares del 0-1000: ', resultado) #por último solo imprimimos el contenido de la variable números. \n",
        "#print(len(resultado)) ESTA LINEA SOLO SE USO PARA CONTAR LOS TERMINOS DE NUESTRA LISTA, POR ENDE SE GUARDA COMO UN COMENTARIO\n",
        "\n",
        "#Segunda parte: compresivas\n",
        "lista_0_a_1000 = [numero for numero in #creamos una la lista sobre la que se hará la compresion\n",
        "            [numero for numero in range(0,1001)] #declaramos el rango a seguir\n",
        "                if numero % 2 != 0 ] #Ahora solo la condición para que tome los números impares\n",
        "print('Lista de los primeros 10 números impares del 0 al 1000: ' ,lista_0_a_1000[:10])  #Por útimo imprimimos el rango de valores impares que queremos"
      ],
      "metadata": {
        "id": "TDyaWXre3-dz",
        "colab": {
          "base_uri": "https://localhost:8080/"
        },
        "outputId": "52978214-41ec-48b7-a2fc-f2127d9361df"
      },
      "execution_count": null,
      "outputs": [
        {
          "output_type": "stream",
          "name": "stdout",
          "text": [
            "Lista del 0 al 1000 [0, 1, 2, 3, 4, 5, 6, 7, 8, 9, 10, 11, 12, 13, 14, 15, 16, 17, 18, 19, 20, 21, 22, 23, 24, 25, 26, 27, 28, 29, 30, 31, 32, 33, 34, 35, 36, 37, 38, 39, 40, 41, 42, 43, 44, 45, 46, 47, 48, 49, 50, 51, 52, 53, 54, 55, 56, 57, 58, 59, 60, 61, 62, 63, 64, 65, 66, 67, 68, 69, 70, 71, 72, 73, 74, 75, 76, 77, 78, 79, 80, 81, 82, 83, 84, 85, 86, 87, 88, 89, 90, 91, 92, 93, 94, 95, 96, 97, 98, 99, 100, 101, 102, 103, 104, 105, 106, 107, 108, 109, 110, 111, 112, 113, 114, 115, 116, 117, 118, 119, 120, 121, 122, 123, 124, 125, 126, 127, 128, 129, 130, 131, 132, 133, 134, 135, 136, 137, 138, 139, 140, 141, 142, 143, 144, 145, 146, 147, 148, 149, 150, 151, 152, 153, 154, 155, 156, 157, 158, 159, 160, 161, 162, 163, 164, 165, 166, 167, 168, 169, 170, 171, 172, 173, 174, 175, 176, 177, 178, 179, 180, 181, 182, 183, 184, 185, 186, 187, 188, 189, 190, 191, 192, 193, 194, 195, 196, 197, 198, 199, 200, 201, 202, 203, 204, 205, 206, 207, 208, 209, 210, 211, 212, 213, 214, 215, 216, 217, 218, 219, 220, 221, 222, 223, 224, 225, 226, 227, 228, 229, 230, 231, 232, 233, 234, 235, 236, 237, 238, 239, 240, 241, 242, 243, 244, 245, 246, 247, 248, 249, 250, 251, 252, 253, 254, 255, 256, 257, 258, 259, 260, 261, 262, 263, 264, 265, 266, 267, 268, 269, 270, 271, 272, 273, 274, 275, 276, 277, 278, 279, 280, 281, 282, 283, 284, 285, 286, 287, 288, 289, 290, 291, 292, 293, 294, 295, 296, 297, 298, 299, 300, 301, 302, 303, 304, 305, 306, 307, 308, 309, 310, 311, 312, 313, 314, 315, 316, 317, 318, 319, 320, 321, 322, 323, 324, 325, 326, 327, 328, 329, 330, 331, 332, 333, 334, 335, 336, 337, 338, 339, 340, 341, 342, 343, 344, 345, 346, 347, 348, 349, 350, 351, 352, 353, 354, 355, 356, 357, 358, 359, 360, 361, 362, 363, 364, 365, 366, 367, 368, 369, 370, 371, 372, 373, 374, 375, 376, 377, 378, 379, 380, 381, 382, 383, 384, 385, 386, 387, 388, 389, 390, 391, 392, 393, 394, 395, 396, 397, 398, 399, 400, 401, 402, 403, 404, 405, 406, 407, 408, 409, 410, 411, 412, 413, 414, 415, 416, 417, 418, 419, 420, 421, 422, 423, 424, 425, 426, 427, 428, 429, 430, 431, 432, 433, 434, 435, 436, 437, 438, 439, 440, 441, 442, 443, 444, 445, 446, 447, 448, 449, 450, 451, 452, 453, 454, 455, 456, 457, 458, 459, 460, 461, 462, 463, 464, 465, 466, 467, 468, 469, 470, 471, 472, 473, 474, 475, 476, 477, 478, 479, 480, 481, 482, 483, 484, 485, 486, 487, 488, 489, 490, 491, 492, 493, 494, 495, 496, 497, 498, 499, 500, 501, 502, 503, 504, 505, 506, 507, 508, 509, 510, 511, 512, 513, 514, 515, 516, 517, 518, 519, 520, 521, 522, 523, 524, 525, 526, 527, 528, 529, 530, 531, 532, 533, 534, 535, 536, 537, 538, 539, 540, 541, 542, 543, 544, 545, 546, 547, 548, 549, 550, 551, 552, 553, 554, 555, 556, 557, 558, 559, 560, 561, 562, 563, 564, 565, 566, 567, 568, 569, 570, 571, 572, 573, 574, 575, 576, 577, 578, 579, 580, 581, 582, 583, 584, 585, 586, 587, 588, 589, 590, 591, 592, 593, 594, 595, 596, 597, 598, 599, 600, 601, 602, 603, 604, 605, 606, 607, 608, 609, 610, 611, 612, 613, 614, 615, 616, 617, 618, 619, 620, 621, 622, 623, 624, 625, 626, 627, 628, 629, 630, 631, 632, 633, 634, 635, 636, 637, 638, 639, 640, 641, 642, 643, 644, 645, 646, 647, 648, 649, 650, 651, 652, 653, 654, 655, 656, 657, 658, 659, 660, 661, 662, 663, 664, 665, 666, 667, 668, 669, 670, 671, 672, 673, 674, 675, 676, 677, 678, 679, 680, 681, 682, 683, 684, 685, 686, 687, 688, 689, 690, 691, 692, 693, 694, 695, 696, 697, 698, 699, 700, 701, 702, 703, 704, 705, 706, 707, 708, 709, 710, 711, 712, 713, 714, 715, 716, 717, 718, 719, 720, 721, 722, 723, 724, 725, 726, 727, 728, 729, 730, 731, 732, 733, 734, 735, 736, 737, 738, 739, 740, 741, 742, 743, 744, 745, 746, 747, 748, 749, 750, 751, 752, 753, 754, 755, 756, 757, 758, 759, 760, 761, 762, 763, 764, 765, 766, 767, 768, 769, 770, 771, 772, 773, 774, 775, 776, 777, 778, 779, 780, 781, 782, 783, 784, 785, 786, 787, 788, 789, 790, 791, 792, 793, 794, 795, 796, 797, 798, 799, 800, 801, 802, 803, 804, 805, 806, 807, 808, 809, 810, 811, 812, 813, 814, 815, 816, 817, 818, 819, 820, 821, 822, 823, 824, 825, 826, 827, 828, 829, 830, 831, 832, 833, 834, 835, 836, 837, 838, 839, 840, 841, 842, 843, 844, 845, 846, 847, 848, 849, 850, 851, 852, 853, 854, 855, 856, 857, 858, 859, 860, 861, 862, 863, 864, 865, 866, 867, 868, 869, 870, 871, 872, 873, 874, 875, 876, 877, 878, 879, 880, 881, 882, 883, 884, 885, 886, 887, 888, 889, 890, 891, 892, 893, 894, 895, 896, 897, 898, 899, 900, 901, 902, 903, 904, 905, 906, 907, 908, 909, 910, 911, 912, 913, 914, 915, 916, 917, 918, 919, 920, 921, 922, 923, 924, 925, 926, 927, 928, 929, 930, 931, 932, 933, 934, 935, 936, 937, 938, 939, 940, 941, 942, 943, 944, 945, 946, 947, 948, 949, 950, 951, 952, 953, 954, 955, 956, 957, 958, 959, 960, 961, 962, 963, 964, 965, 966, 967, 968, 969, 970, 971, 972, 973, 974, 975, 976, 977, 978, 979, 980, 981, 982, 983, 984, 985, 986, 987, 988, 989, 990, 991, 992, 993, 994, 995, 996, 997, 998, 999, 1000]\n",
            "Lista de los últimos 10 número pares del 0-1000:  [982, 984, 986, 988, 990, 992, 994, 996, 998, 1000]\n",
            "Lista de los primeros 10 números impares del 0 al 1000:  [1, 3, 5, 7, 9, 11, 13, 15, 17, 19]\n"
          ]
        }
      ]
    },
    {
      "cell_type": "markdown",
      "source": [],
      "metadata": {
        "id": "mMAxOl1eJsnj"
      }
    },
    {
      "cell_type": "markdown",
      "source": [
        "**Ejercicio 6 (2 puntos): Aproximación de $\\pi$**\n",
        "\n",
        "Una de las formas más sencillas de aproximar $\\pi$ es mediante la siguiente serie infinita de Leibniz:\n",
        "$$\\frac{\\pi}{4} = \\sum_{n=0}^{\\infty}\\frac{(-1)^{n}}{(2n+1)} = \\frac{1}{1} - \\frac{1}{3} + \\frac{1}{5}-\\frac{1}{7}+\\frac{1}{9}-...$$\n",
        "crea una función para aproximar $\\pi$ utilizando la serie de Leibniz. Usa n = 100000 e imprime el valor de tu aproximación tanto el valor de $\\frac{\\pi}{4}$ como $\\pi$.\n",
        "El valor de $\\pi$ se obtiene al despejar:\n",
        "$$\\pi = 4 * \\left(\\sum_{n=0}^{\\infty}\\frac{(-1)^{n}}{(2n+1)} \\right)$$\"\n",
        "La siguiente celda de codigo ofrece el valor de $\\frac{\\pi}{4}$."
      ],
      "metadata": {
        "id": "nqJOXQzh7TV0"
      }
    },
    {
      "cell_type": "code",
      "source": [
        "import numpy as np\n",
        "#El valor de pi/4\n",
        "print(\"El valor de pi/4 es aproximadamente {}\".format(np.pi/4))"
      ],
      "metadata": {
        "colab": {
          "base_uri": "https://localhost:8080/"
        },
        "id": "NxuH_310J4AY",
        "outputId": "1fa8dc37-d3e5-474b-ec79-8a622af1564f"
      },
      "execution_count": null,
      "outputs": [
        {
          "output_type": "stream",
          "name": "stdout",
          "text": [
            "El valor de pi/4 es aproximadamente 0.7853981633974483\n"
          ]
        }
      ]
    },
    {
      "cell_type": "markdown",
      "source": [
        "El valor de pi/4 es aproximadamente 0.7853981633974483."
      ],
      "metadata": {
        "id": "UWgUaSJFKBZJ"
      }
    },
    {
      "cell_type": "code",
      "source": [
        "#Calculo de pi y pi/4 usando la serie infinita de Leibniz\n",
        "def termino (n): #definimos una funcion que nos dará la formula despejada anteriormente\n",
        "  resultado = ((-1)**n)/(2*n+1) #escribimos la \"formula\" que hará el cálculo para el término n que buscamos, teniendo cuidado con los parentesís\n",
        "  #para respetar la jerarquia de operaciones\n",
        "\n",
        "  return (resultado) #regresamos el resultado\n",
        "  #Con la anterior función ya podemos obtener el valor de cualquiera de los términos de la serie de Leibniz\n",
        "\n",
        "#Lo siguiente será hacer la \"suma\" de todos los términos \n",
        "suma_L = 0 #Esta variable corresponde a la serie de leibniz, iniciará desde cero\n",
        "for i in range(0,100000): #con este for generaremos varios números en el rango de presicion que busquemos (n)\n",
        "\n",
        "  suma_L = suma_L + termino (i) #Ahora definimos una nueva suma que arranca desde lo que teniamos en la suma de antes (0) más el término íesimo \n",
        "\n",
        "#Al final obtenemos el valor de pi/4 en esa variable, por lo que solo hacemos un despeje al declarar la variable que nombraremos pi\n",
        "pi = suma_L * 4\n",
        "print('El valor de pi obtenido por la serie de Leibniz es: ', pi) #Por último imprimimos el valor calculado de pi\n",
        "print('El valor de pi/4 obtenido por la serie de Leibniz es:', pi/4) #Y el valor de pi/4\n",
        "\n",
        "\n",
        "import numpy as np\n",
        "#El valor de pi/4\n",
        "print(\"El valor de pi/4 es aproximadamente {}\".format(np.pi/4))#comparamos el valor de pi/4 de python con el obtenido en nuestró código (Nos acercamos)"
      ],
      "metadata": {
        "colab": {
          "base_uri": "https://localhost:8080/"
        },
        "id": "twYhMTY49lq_",
        "outputId": "0916c5f9-8c27-4251-8cc6-188ad8d4e185"
      },
      "execution_count": null,
      "outputs": [
        {
          "output_type": "stream",
          "name": "stdout",
          "text": [
            "El valor de pi obtenido por la serie de Leibniz es:  3.1415826535897198\n",
            "El valor de pi/4 obtenido por la serie de Leibniz es: 0.7853956633974299\n",
            "El valor de pi/4 es aproximadamente 0.7853981633974483\n"
          ]
        }
      ]
    },
    {
      "cell_type": "markdown",
      "source": [],
      "metadata": {
        "id": "EkZdvdIQJwFk"
      }
    },
    {
      "cell_type": "markdown",
      "source": [],
      "metadata": {
        "id": "ifueqqETJVW7"
      }
    },
    {
      "cell_type": "markdown",
      "source": [
        "**Ejercicio 7 (1 puntos): Identificador de vocales**\n",
        "\n",
        "Escribe una función que reciba una cadena, por ejemplo 'el pErro de la tiA chOnita' y regrese la cantidad de vocales que contiene. La función debe contener varios casos de prueba, if, elif y else. Con la cadena de ejemplo, imprime en pantalla el resultado de la función (10).\n",
        "\n",
        "Para conocer si un caracter es una vocal, primero debes descomponer la cadena en caracteres individuales. Para ello observa el siguiente código:"
      ],
      "metadata": {
        "id": "CaB2yjPOJgp2"
      }
    },
    {
      "cell_type": "code",
      "source": [
        "# Divide una cadena en caracteres individuales\n",
        "cadena_prueba = 'el pErro de la tiA chOnita'\n",
        "caracteres_individuales = list(cadena_prueba)\n",
        "print(caracteres_individuales)"
      ],
      "metadata": {
        "colab": {
          "base_uri": "https://localhost:8080/"
        },
        "id": "7A3azr8zKMn3",
        "outputId": "9d5a94f9-7fd0-443b-a4e2-fe1482fa9917"
      },
      "execution_count": null,
      "outputs": [
        {
          "output_type": "stream",
          "name": "stdout",
          "text": [
            "['e', 'l', ' ', 'p', 'E', 'r', 'r', 'o', ' ', 'd', 'e', ' ', 'l', 'a', ' ', 't', 'i', 'A', ' ', 'c', 'h', 'O', 'n', 'i', 't', 'a']\n"
          ]
        }
      ]
    },
    {
      "cell_type": "code",
      "source": [
        "#Para este código usaremos el principio del código de arriba, pero en vez de hacer una lista de los caracteres, usamos 'lower' para convertir las vocales\n",
        "#MAYUSCULAS ingresadas a minusculas, una vez hecho eso, creamos un bucle for en una funcion 'contador' que evalúa una condición y luego ejecuta un bloque \n",
        "#de código si la condición 'contador' es verdadera. El bloque de código se ejecuta repetidamente hasta que la condición llega ser o es falsa.\n",
        "\n",
        "def contar_vocales(cadena): #En caso de que la letra esté dentro de 'aeiou', se aumenta el contador. Al terminar la función regresamos el contador.\n",
        "#Así es como contamos las vocales de una cadena en Python\n",
        "\tcontador = 0\n",
        "\tfor letra in cadena:\n",
        "\t\tif letra.lower() in 'aeiou': \n",
        "\t\t\tcontador += 1 #esta función devolverla un entero y recibirá una cadena\n",
        "\treturn contador #hacemos un retorno a nuestra funcion\n",
        "\n",
        "cadena = input('Ingrese una cadena, ya sea en mayusculas o minusculas: ') #se le pide al usuario que ingrese una frase (cadena)\n",
        "cantidad = contar_vocales(cadena) #en esta variable solo guardaremos el valor de la funcion antes programada\n",
        "print(f'En la cadena ', cadena, 'hay', cantidad, 'vocales') #por último solo imprimimos tanto la cadena como el número de vocales de la misma"
      ],
      "metadata": {
        "colab": {
          "base_uri": "https://localhost:8080/"
        },
        "id": "KyInHs7cA1T4",
        "outputId": "0e8dba1e-1d7f-4a33-e186-028dc2de8fd0"
      },
      "execution_count": 113,
      "outputs": [
        {
          "output_type": "stream",
          "name": "stdout",
          "text": [
            "Ingrese una cadena, ya sea en mayusculas o minusculas: el pErro de la tiA chOnita\n",
            "En la cadena  el pErro de la tiA chOnita hay 10 vocales\n"
          ]
        }
      ]
    },
    {
      "cell_type": "markdown",
      "source": [],
      "metadata": {
        "id": "Ul_jkft1JWuv"
      }
    },
    {
      "cell_type": "markdown",
      "source": [
        "**Ejercicio 8 (2 puntos):**\n",
        "\n",
        "Escribe una clase \"calculadora\" que regrese el resultado de las operaciones de suma, resta, multiplicacion, division, modulo y potencia. La clase debe contener un método para cada operación.\n",
        "\n",
        "Los métodos que pudiesen presentar errores como division entre cero, deben ser manejados de tal manera que el programa no imprima ningun error (vimos una clausula para hacer esto).\n",
        "\n",
        "Adicional a esto, los métodos modulo y potencia deben ser generales, es decir, deben funcionar para cualquier número entero positivo (es un parámetro extra del método). Por ejemplo, la potencia de 2 elevado a 3 es 8, la potencia de 5 elevado a 3 es 125, etc.\n",
        "\n",
        "Crea una instancia de la clase calculadora y prueba cada uno de los métodos, con valores de tu elección. Para los métodos que pudiesen presentar errores da dos ejemplos, uno totalmente funcional (3/5 por ejemplo) y otro que sea conflictivo pero que no regresa ningún error (4/0 por ejemplo)."
      ],
      "metadata": {
        "id": "9N_2wpuQVMEl"
      }
    },
    {
      "cell_type": "code",
      "source": [
        "from math import factorial #esta linea de importacion fue para sacar el factorial de una manera más sencilla\n",
        "#Para este código se uso la clase calculadora, a la que se le agregaron funciones para hacer las respectivas operacione\n",
        "class Calculadora: #se inicio con una clase calculadora\n",
        "    def __init__(self, num1, num2): #asignamos los valores que tomará la clase para cada funcion\n",
        "        self.num1 = float(num1) #incorporamos las variables como flotantes\n",
        "        self.num2 = float(num2)\n",
        "\n",
        "    def sumar(self): #iniciamos con las funciones, asignando las operaciones básicas (PARA CADA CASO) entre las variables antes definidas\n",
        "        suma = self.num1 + self.num2\n",
        "        print('El resultado de la suma de ', num1, 'mas ', num2, 'es: ', suma) #imprimos los resultados de una manera un tanto descriptiva\n",
        "\n",
        "    def restar(self):\n",
        "        resta = self.num1 - self.num2\n",
        "        print('El resultado de la resta de ', num1, 'menos ', num2, 'es: ', resta)\n",
        "\n",
        "    def multiplicar(self):\n",
        "        multiplicacion = self.num1 * self.num2\n",
        "        print('El resultado de la multiplicación de ', num1, 'por ', num2, 'es: ', multiplicacion)\n",
        "\n",
        "    def dividir(self):\n",
        "      try: #en este caso especial se asignaron excepciones a nuestra funcion como lo vimos en clase, para evitar tener un error al dividir entre cero, y así solo tener una advertencia\n",
        "        division = self.num1 / self.num2\n",
        "        print('El resultado de la divición de ', num1, 'sobre ', num2, 'es: ', division)\n",
        "      except ZeroDivisionError as e:\n",
        "        print('El segundo número (divisor) NO puede ser cero: ', e)\n",
        "\n",
        "    def potencia(self):\n",
        "        elevar = self.num1 ** self.num2\n",
        "        print('El resultado de ', num1,'a la potencia ', num2,'es: ', int(elevar))#se hace una pequeña excepcion con un 'int' para obtener solo el numero entero de la potencia\n",
        "        #Las siguintes líneas (31-38) se dejan como muestra de un intento fallido de incorporar una funcion para obtener el factorial, por separado funciona\n",
        "\"\"\"    def factorial(n):\n",
        "      if n==0 or n==1:\n",
        "            resultado=1\n",
        "      elif n > 1:\n",
        "            resultado=n * producto(n-1)\n",
        "      return resultado\n",
        "      print('El factorial de ', n,'es: ', resultado)\n",
        "\"\"\"\n",
        "num1 = input('ingrese el primer numero: ') #estas lineas nos permiten manipular con que valores se haran las operaciones\n",
        "num2 = input('ingrese el segundo numero: ')\n",
        "n = int(input('ingrese un número entero positivo para obtener su factorial: ')) #esta variable se asigno para convertir el valor de 'num1' a entero y así se pueda sacar el factorial\n",
        "print ('El factorial de ', n, 'es', factorial(n)) #con esta línea escribimos el factorial del primero numero introducido\n",
        "\n",
        "  #incluimos las paqueterias correspondientes a cada operacion, menos la de factorial ya que no se pudo incorporar\n",
        "calculadora = Calculadora(num1, num2)\n",
        "calculadora.sumar()\n",
        "calculadora.restar()\n",
        "calculadora.multiplicar()\n",
        "calculadora.dividir()\n",
        "calculadora.potencia()\n",
        "#calculadora.factorial()"
      ],
      "metadata": {
        "colab": {
          "base_uri": "https://localhost:8080/"
        },
        "id": "QuaOIoWMVfT9",
        "outputId": "1319deae-e7e2-4e73-dd2c-adccd289d644"
      },
      "execution_count": 229,
      "outputs": [
        {
          "output_type": "stream",
          "name": "stdout",
          "text": [
            "ingrese el primer numero: 12.2\n",
            "ingrese el segundo numero: 0\n",
            "ingrese un número entero positivo para obtener su factorial: 46\n",
            "El factorial de  46 es 5502622159812088949850305428800254892961651752960000000000\n",
            "El resultado de la suma de  12.2 mas  0 es:  12.2\n",
            "El resultado de la resta de  12.2 menos  0 es:  12.2\n",
            "El resultado de la multiplicación de  12.2 por  0 es:  0.0\n",
            "El segundo número (divisor) NO puede ser cero:  float division by zero\n",
            "El resultado de  12.2 a la potencia  0 es:  1\n"
          ]
        }
      ]
    },
    {
      "cell_type": "markdown",
      "source": [],
      "metadata": {
        "id": "L7mlJjWkJYnC"
      }
    },
    {
      "cell_type": "markdown",
      "source": [
        "Como podemos ver en el codigo de la calculadora, se trabajaron los errores\n",
        "de division entre cero, sin embargo, al intentar meter fracciones no se lográ una ejecucion exitosa, así como al querer meter decimales, esto re \"arreglo\" pidiendole al usuario que para el caso del factorial solo meta números,así como se logro obtener solo el valor entero de una potencia con decimales.\n",
        " \n",
        "La últimma parte queda pendiente..."
      ],
      "metadata": {
        "id": "JooWjLfTBxWH"
      }
    },
    {
      "cell_type": "markdown",
      "source": [
        "**Ejercicio de puntos extras opcional (1 punto):**\n",
        "\n",
        "Supóngamos que tenemos una lista de números enteros y queremos encontrar el número más grande. Por ejemplo, si la lista es [1, 2, 3, 4, 5] el número más grande es 5. Crea una función que encuentre el número más grande en una lista de números. La función debe regresar el número más grande y el índice en el que se encuentra. Prueba la función con una lista de números de tu elección."
      ],
      "metadata": {
        "id": "385yCvzIbE3o"
      }
    },
    {
      "cell_type": "code",
      "source": [
        "#Primero creamos una lista con los números a evaluar\n",
        "lista = [0,1,2,3,4,5,1000,9646,48,6389,968,6956,566,306,98]\n",
        "\n",
        "def mayor(listado): #creamos una función que nos brinde el número mayor de la lista\n",
        "\talto=0 #esta linea es para tener una referencia y comenzar a evaluar la función\n",
        "\tfor i in range(0,len(lista)): #este ciclo nos sirve para visitar cada uno de los elementos de la lista, empieza desde la posicion 0 hasta la longitud de toda nuestra lista\n",
        "\t\tif lista[i]>alto: #si el elemento actual que se esta visitando de la lista es mayor que la  variable definida antes\n",
        "\t\t\talto=lista[i] #la variable será igual a ese elemento que es más grande\n",
        "\treturn(alto) #ahora solo retornamos \n",
        "print('El número más grande de la lista ', lista, 'es: ' , mayor(lista)) #aqui solo nos queda imprimir la lista de la que se tomo el valor y el valor de nuestra funcion\n",
        "print('La posicion del número más grande es: ', lista.index(mayor(lista))) #con la linea index obtenemos la posicion del número sacado de nuestra funcion"
      ],
      "metadata": {
        "colab": {
          "base_uri": "https://localhost:8080/"
        },
        "id": "xUqv_UyDwCNT",
        "outputId": "26bd36b1-4d52-4077-b9c2-90da71c40fd7"
      },
      "execution_count": null,
      "outputs": [
        {
          "output_type": "stream",
          "name": "stdout",
          "text": [
            "El número más grande de la lista  [0, 1, 2, 3, 4, 5, 1000, 9646, 48, 6389, 968, 6956, 566, 306, 98] es:  9646\n",
            "La posicion del número más grande es:  7\n"
          ]
        }
      ]
    },
    {
      "cell_type": "markdown",
      "source": [],
      "metadata": {
        "id": "GXgsWanaJZuf"
      }
    }
  ]
}